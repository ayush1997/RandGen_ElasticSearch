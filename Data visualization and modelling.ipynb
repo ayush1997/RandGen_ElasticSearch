{
 "cells": [
  {
   "cell_type": "markdown",
   "metadata": {},
   "source": [
    "This notebook contains implementation of **Data Analysis/Exploration** ,**Feature Selection** and **Model Training** ."
   ]
  },
  {
   "cell_type": "code",
   "execution_count": 1,
   "metadata": {
    "collapsed": true
   },
   "outputs": [],
   "source": [
    "from scipy import stats, integrate\n",
    "from sklearn.preprocessing import StandardScaler\n",
    "import numpy as np\n",
    "import random\n",
    "import datetime \n",
    "import uuid\n",
    "from time import time\n",
    "import pandas as pd\n",
    "import matplotlib.pyplot as plt\n",
    "import seaborn as sns"
   ]
  },
  {
   "cell_type": "code",
   "execution_count": 2,
   "metadata": {
    "collapsed": false
   },
   "outputs": [],
   "source": [
    "sns.set(color_codes=True)\n",
    "pd.options.display.max_rows = 10"
   ]
  },
  {
   "cell_type": "code",
   "execution_count": 3,
   "metadata": {
    "collapsed": true
   },
   "outputs": [],
   "source": [
    "# connect to our cluster\n",
    "\n",
    "from elasticsearch import Elasticsearch\n",
    "es = Elasticsearch([{'host': 'localhost', 'port': 9200}])\n"
   ]
  },
  {
   "cell_type": "code",
   "execution_count": 4,
   "metadata": {
    "collapsed": false
   },
   "outputs": [
    {
     "data": {
      "text/plain": [
       "{u'acknowledged': True}"
      ]
     },
     "execution_count": 4,
     "metadata": {},
     "output_type": "execute_result"
    }
   ],
   "source": [
    "es.indices.put_settings(index=\"atlas\",\n",
    "                        body= {\"index\" : {\n",
    "                                \"max_result_window\" : 2000000\n",
    "                              }})"
   ]
  },
  {
   "cell_type": "markdown",
   "metadata": {},
   "source": [
    "## Loading Data from elasticsearch"
   ]
  },
  {
   "cell_type": "code",
   "execution_count": 5,
   "metadata": {
    "collapsed": false,
    "scrolled": true
   },
   "outputs": [
    {
     "name": "stdout",
     "output_type": "stream",
     "text": [
      "Loading....\n",
      "\n",
      "time taken 43.9035589695 seconds\n"
     ]
    }
   ],
   "source": [
    "# Loading data from Elasticsearch for further usage with pandas.It takes around 50-55 Sec\n",
    "\n",
    "print \"Loading....\"\n",
    "start = time()\n",
    "types= [\"start\",\"end\"]\n",
    "data_start = []\n",
    "data_end = []\n",
    "for j in types:\n",
    "    for i in range(0,10):\n",
    "        res = es.search(index = \"atlas\", size=100000,doc_type=j, body={\"query\": {\"match_all\": {}}},from_=(i*100000),request_timeout=30)\n",
    "        if j == \"start\":\n",
    "            for hit in res['hits']['hits']:\n",
    "                data_start.append(hit[\"_source\"])\n",
    "        else:\n",
    "            for hit in res['hits']['hits']:\n",
    "                data_end.append(hit[\"_source\"])\n",
    "                \n",
    "print '\\ntime taken %s seconds' % str(time() - start)"
   ]
  },
  {
   "cell_type": "markdown",
   "metadata": {},
   "source": [
    "## Loading data to Pandas Dataframes"
   ]
  },
  {
   "cell_type": "code",
   "execution_count": 6,
   "metadata": {
    "collapsed": true
   },
   "outputs": [],
   "source": [
    "df_start = pd.DataFrame(data_start)\n",
    "df_end = pd.DataFrame(data_end)"
   ]
  },
  {
   "cell_type": "code",
   "execution_count": 7,
   "metadata": {
    "collapsed": false,
    "scrolled": true
   },
   "outputs": [
    {
     "data": {
      "text/html": [
       "<div>\n",
       "<table border=\"1\" class=\"dataframe\">\n",
       "  <thead>\n",
       "    <tr style=\"text-align: right;\">\n",
       "      <th></th>\n",
       "      <th>bytes</th>\n",
       "      <th>dst_site</th>\n",
       "      <th>event_type</th>\n",
       "      <th>src_site</th>\n",
       "      <th>timestamp</th>\n",
       "      <th>uuid</th>\n",
       "    </tr>\n",
       "  </thead>\n",
       "  <tbody>\n",
       "    <tr>\n",
       "      <th>0</th>\n",
       "      <td>4.628256e+09</td>\n",
       "      <td>D</td>\n",
       "      <td>transfer-queued</td>\n",
       "      <td>A</td>\n",
       "      <td>2017-03-08 10:00:00</td>\n",
       "      <td>275c597a-2476-4616-bdd0-e73017920987</td>\n",
       "    </tr>\n",
       "    <tr>\n",
       "      <th>1</th>\n",
       "      <td>1.998827e+09</td>\n",
       "      <td>B</td>\n",
       "      <td>transfer-queued</td>\n",
       "      <td>A</td>\n",
       "      <td>2017-03-08 10:00:00</td>\n",
       "      <td>ad86b2be-0612-4db7-a2d8-dd07d0ba6a4d</td>\n",
       "    </tr>\n",
       "    <tr>\n",
       "      <th>2</th>\n",
       "      <td>5.404987e+09</td>\n",
       "      <td>B</td>\n",
       "      <td>transfer-queued</td>\n",
       "      <td>A</td>\n",
       "      <td>2017-03-08 10:00:00</td>\n",
       "      <td>26dd2e17-75f3-430d-83de-a484c966bb0f</td>\n",
       "    </tr>\n",
       "    <tr>\n",
       "      <th>3</th>\n",
       "      <td>7.609555e+09</td>\n",
       "      <td>C</td>\n",
       "      <td>transfer-queued</td>\n",
       "      <td>B</td>\n",
       "      <td>2017-03-08 10:00:00</td>\n",
       "      <td>f59d760e-647f-4261-845f-6a43846ba16e</td>\n",
       "    </tr>\n",
       "    <tr>\n",
       "      <th>4</th>\n",
       "      <td>4.683886e+09</td>\n",
       "      <td>E</td>\n",
       "      <td>transfer-queued</td>\n",
       "      <td>A</td>\n",
       "      <td>2017-03-08 10:00:00</td>\n",
       "      <td>240a2305-501d-401d-8526-89fa2874661d</td>\n",
       "    </tr>\n",
       "    <tr>\n",
       "      <th>...</th>\n",
       "      <td>...</td>\n",
       "      <td>...</td>\n",
       "      <td>...</td>\n",
       "      <td>...</td>\n",
       "      <td>...</td>\n",
       "      <td>...</td>\n",
       "    </tr>\n",
       "    <tr>\n",
       "      <th>999995</th>\n",
       "      <td>1.791897e+09</td>\n",
       "      <td>A</td>\n",
       "      <td>transfer-queued</td>\n",
       "      <td>D</td>\n",
       "      <td>2017-03-08 10:00:00</td>\n",
       "      <td>35f098e3-0cab-48a3-8c4d-67cade829f4b</td>\n",
       "    </tr>\n",
       "    <tr>\n",
       "      <th>999996</th>\n",
       "      <td>4.982574e+09</td>\n",
       "      <td>B</td>\n",
       "      <td>transfer-queued</td>\n",
       "      <td>E</td>\n",
       "      <td>2017-03-08 10:00:00</td>\n",
       "      <td>5ac20d43-a237-4482-bc55-eb35f479cbfe</td>\n",
       "    </tr>\n",
       "    <tr>\n",
       "      <th>999997</th>\n",
       "      <td>1.896472e+09</td>\n",
       "      <td>B</td>\n",
       "      <td>transfer-queued</td>\n",
       "      <td>C</td>\n",
       "      <td>2017-03-08 10:00:00</td>\n",
       "      <td>a5613c0b-b872-4a81-b484-09340726ce2e</td>\n",
       "    </tr>\n",
       "    <tr>\n",
       "      <th>999998</th>\n",
       "      <td>1.617743e+09</td>\n",
       "      <td>D</td>\n",
       "      <td>transfer-queued</td>\n",
       "      <td>B</td>\n",
       "      <td>2017-03-08 10:00:00</td>\n",
       "      <td>31039119-d8d7-4bc8-b250-f298bdfb46d9</td>\n",
       "    </tr>\n",
       "    <tr>\n",
       "      <th>999999</th>\n",
       "      <td>7.691422e+09</td>\n",
       "      <td>D</td>\n",
       "      <td>transfer-queued</td>\n",
       "      <td>C</td>\n",
       "      <td>2017-03-08 10:00:00</td>\n",
       "      <td>79160b50-5ebd-430d-a665-0addaae4d5bb</td>\n",
       "    </tr>\n",
       "  </tbody>\n",
       "</table>\n",
       "<p>1000000 rows × 6 columns</p>\n",
       "</div>"
      ],
      "text/plain": [
       "               bytes dst_site       event_type src_site            timestamp  \\\n",
       "0       4.628256e+09        D  transfer-queued        A  2017-03-08 10:00:00   \n",
       "1       1.998827e+09        B  transfer-queued        A  2017-03-08 10:00:00   \n",
       "2       5.404987e+09        B  transfer-queued        A  2017-03-08 10:00:00   \n",
       "3       7.609555e+09        C  transfer-queued        B  2017-03-08 10:00:00   \n",
       "4       4.683886e+09        E  transfer-queued        A  2017-03-08 10:00:00   \n",
       "...              ...      ...              ...      ...                  ...   \n",
       "999995  1.791897e+09        A  transfer-queued        D  2017-03-08 10:00:00   \n",
       "999996  4.982574e+09        B  transfer-queued        E  2017-03-08 10:00:00   \n",
       "999997  1.896472e+09        B  transfer-queued        C  2017-03-08 10:00:00   \n",
       "999998  1.617743e+09        D  transfer-queued        B  2017-03-08 10:00:00   \n",
       "999999  7.691422e+09        D  transfer-queued        C  2017-03-08 10:00:00   \n",
       "\n",
       "                                        uuid  \n",
       "0       275c597a-2476-4616-bdd0-e73017920987  \n",
       "1       ad86b2be-0612-4db7-a2d8-dd07d0ba6a4d  \n",
       "2       26dd2e17-75f3-430d-83de-a484c966bb0f  \n",
       "3       f59d760e-647f-4261-845f-6a43846ba16e  \n",
       "4       240a2305-501d-401d-8526-89fa2874661d  \n",
       "...                                      ...  \n",
       "999995  35f098e3-0cab-48a3-8c4d-67cade829f4b  \n",
       "999996  5ac20d43-a237-4482-bc55-eb35f479cbfe  \n",
       "999997  a5613c0b-b872-4a81-b484-09340726ce2e  \n",
       "999998  31039119-d8d7-4bc8-b250-f298bdfb46d9  \n",
       "999999  79160b50-5ebd-430d-a665-0addaae4d5bb  \n",
       "\n",
       "[1000000 rows x 6 columns]"
      ]
     },
     "execution_count": 7,
     "metadata": {},
     "output_type": "execute_result"
    }
   ],
   "source": [
    "df_start"
   ]
  },
  {
   "cell_type": "code",
   "execution_count": 8,
   "metadata": {
    "collapsed": false,
    "scrolled": true
   },
   "outputs": [
    {
     "data": {
      "text/html": [
       "<div>\n",
       "<table border=\"1\" class=\"dataframe\">\n",
       "  <thead>\n",
       "    <tr style=\"text-align: right;\">\n",
       "      <th></th>\n",
       "      <th>bytes</th>\n",
       "      <th>dst_site</th>\n",
       "      <th>event_type</th>\n",
       "      <th>src_site</th>\n",
       "      <th>timestamp</th>\n",
       "      <th>uuid</th>\n",
       "    </tr>\n",
       "  </thead>\n",
       "  <tbody>\n",
       "    <tr>\n",
       "      <th>0</th>\n",
       "      <td>2.113857e+09</td>\n",
       "      <td>C</td>\n",
       "      <td>transfer_success</td>\n",
       "      <td>D</td>\n",
       "      <td>2017-03-08 10:03:21.593124</td>\n",
       "      <td>31a846c9-9ba0-45b7-825a-247b5a6d70c1</td>\n",
       "    </tr>\n",
       "    <tr>\n",
       "      <th>1</th>\n",
       "      <td>5.114972e+09</td>\n",
       "      <td>B</td>\n",
       "      <td>transfer_success</td>\n",
       "      <td>A</td>\n",
       "      <td>2017-03-08 10:08:07.801724</td>\n",
       "      <td>0657cf64-28f7-49ce-8554-6eb7f032787c</td>\n",
       "    </tr>\n",
       "    <tr>\n",
       "      <th>2</th>\n",
       "      <td>8.065796e+09</td>\n",
       "      <td>D</td>\n",
       "      <td>transfer_success</td>\n",
       "      <td>A</td>\n",
       "      <td>2017-03-08 10:12:49.214290</td>\n",
       "      <td>a55b6c74-a8bb-4c5a-825e-bf44191be894</td>\n",
       "    </tr>\n",
       "    <tr>\n",
       "      <th>3</th>\n",
       "      <td>5.055894e+09</td>\n",
       "      <td>B</td>\n",
       "      <td>transfer_success</td>\n",
       "      <td>A</td>\n",
       "      <td>2017-03-08 10:08:02.167663</td>\n",
       "      <td>f757a4dd-3e16-4355-a3dc-2ade43ba5790</td>\n",
       "    </tr>\n",
       "    <tr>\n",
       "      <th>4</th>\n",
       "      <td>4.990026e+09</td>\n",
       "      <td>C</td>\n",
       "      <td>transfer_success</td>\n",
       "      <td>A</td>\n",
       "      <td>2017-03-08 10:07:55.885942</td>\n",
       "      <td>ce6fc00c-ee54-4491-8487-0189ca47456d</td>\n",
       "    </tr>\n",
       "    <tr>\n",
       "      <th>...</th>\n",
       "      <td>...</td>\n",
       "      <td>...</td>\n",
       "      <td>...</td>\n",
       "      <td>...</td>\n",
       "      <td>...</td>\n",
       "      <td>...</td>\n",
       "    </tr>\n",
       "    <tr>\n",
       "      <th>999995</th>\n",
       "      <td>1.791897e+09</td>\n",
       "      <td>A</td>\n",
       "      <td>transfer-failed</td>\n",
       "      <td>D</td>\n",
       "      <td>2017-03-08 10:02:50.888589</td>\n",
       "      <td>35f098e3-0cab-48a3-8c4d-67cade829f4b</td>\n",
       "    </tr>\n",
       "    <tr>\n",
       "      <th>999996</th>\n",
       "      <td>4.982574e+09</td>\n",
       "      <td>B</td>\n",
       "      <td>transfer-failed</td>\n",
       "      <td>E</td>\n",
       "      <td>2017-03-08 10:07:55.175247</td>\n",
       "      <td>5ac20d43-a237-4482-bc55-eb35f479cbfe</td>\n",
       "    </tr>\n",
       "    <tr>\n",
       "      <th>999997</th>\n",
       "      <td>1.896472e+09</td>\n",
       "      <td>B</td>\n",
       "      <td>transfer-failed</td>\n",
       "      <td>C</td>\n",
       "      <td>2017-03-08 10:03:00.861620</td>\n",
       "      <td>a5613c0b-b872-4a81-b484-09340726ce2e</td>\n",
       "    </tr>\n",
       "    <tr>\n",
       "      <th>999998</th>\n",
       "      <td>1.617743e+09</td>\n",
       "      <td>D</td>\n",
       "      <td>transfer-failed</td>\n",
       "      <td>B</td>\n",
       "      <td>2017-03-08 10:02:34.280043</td>\n",
       "      <td>31039119-d8d7-4bc8-b250-f298bdfb46d9</td>\n",
       "    </tr>\n",
       "    <tr>\n",
       "      <th>999999</th>\n",
       "      <td>7.691422e+09</td>\n",
       "      <td>D</td>\n",
       "      <td>transfer-failed</td>\n",
       "      <td>C</td>\n",
       "      <td>2017-03-08 10:12:13.511135</td>\n",
       "      <td>79160b50-5ebd-430d-a665-0addaae4d5bb</td>\n",
       "    </tr>\n",
       "  </tbody>\n",
       "</table>\n",
       "<p>1000000 rows × 6 columns</p>\n",
       "</div>"
      ],
      "text/plain": [
       "               bytes dst_site        event_type src_site  \\\n",
       "0       2.113857e+09        C  transfer_success        D   \n",
       "1       5.114972e+09        B  transfer_success        A   \n",
       "2       8.065796e+09        D  transfer_success        A   \n",
       "3       5.055894e+09        B  transfer_success        A   \n",
       "4       4.990026e+09        C  transfer_success        A   \n",
       "...              ...      ...               ...      ...   \n",
       "999995  1.791897e+09        A   transfer-failed        D   \n",
       "999996  4.982574e+09        B   transfer-failed        E   \n",
       "999997  1.896472e+09        B   transfer-failed        C   \n",
       "999998  1.617743e+09        D   transfer-failed        B   \n",
       "999999  7.691422e+09        D   transfer-failed        C   \n",
       "\n",
       "                         timestamp                                  uuid  \n",
       "0       2017-03-08 10:03:21.593124  31a846c9-9ba0-45b7-825a-247b5a6d70c1  \n",
       "1       2017-03-08 10:08:07.801724  0657cf64-28f7-49ce-8554-6eb7f032787c  \n",
       "2       2017-03-08 10:12:49.214290  a55b6c74-a8bb-4c5a-825e-bf44191be894  \n",
       "3       2017-03-08 10:08:02.167663  f757a4dd-3e16-4355-a3dc-2ade43ba5790  \n",
       "4       2017-03-08 10:07:55.885942  ce6fc00c-ee54-4491-8487-0189ca47456d  \n",
       "...                            ...                                   ...  \n",
       "999995  2017-03-08 10:02:50.888589  35f098e3-0cab-48a3-8c4d-67cade829f4b  \n",
       "999996  2017-03-08 10:07:55.175247  5ac20d43-a237-4482-bc55-eb35f479cbfe  \n",
       "999997  2017-03-08 10:03:00.861620  a5613c0b-b872-4a81-b484-09340726ce2e  \n",
       "999998  2017-03-08 10:02:34.280043  31039119-d8d7-4bc8-b250-f298bdfb46d9  \n",
       "999999  2017-03-08 10:12:13.511135  79160b50-5ebd-430d-a665-0addaae4d5bb  \n",
       "\n",
       "[1000000 rows x 6 columns]"
      ]
     },
     "execution_count": 8,
     "metadata": {},
     "output_type": "execute_result"
    }
   ],
   "source": [
    "df_end"
   ]
  },
  {
   "cell_type": "code",
   "execution_count": 42,
   "metadata": {
    "collapsed": false
   },
   "outputs": [
    {
     "data": {
      "text/html": [
       "<div>\n",
       "<table border=\"1\" class=\"dataframe\">\n",
       "  <thead>\n",
       "    <tr style=\"text-align: right;\">\n",
       "      <th></th>\n",
       "      <th>bytes</th>\n",
       "      <th>dst_site</th>\n",
       "      <th>event_type</th>\n",
       "      <th>src_site</th>\n",
       "      <th>timestamp_x</th>\n",
       "      <th>uuid</th>\n",
       "      <th>timestamp_y</th>\n",
       "    </tr>\n",
       "  </thead>\n",
       "  <tbody>\n",
       "    <tr>\n",
       "      <th>0</th>\n",
       "      <td>2.113857e+09</td>\n",
       "      <td>C</td>\n",
       "      <td>transfer_success</td>\n",
       "      <td>D</td>\n",
       "      <td>2017-03-08 10:03:21.593124</td>\n",
       "      <td>31a846c9-9ba0-45b7-825a-247b5a6d70c1</td>\n",
       "      <td>2017-03-08 10:00:00</td>\n",
       "    </tr>\n",
       "    <tr>\n",
       "      <th>1</th>\n",
       "      <td>5.114972e+09</td>\n",
       "      <td>B</td>\n",
       "      <td>transfer_success</td>\n",
       "      <td>A</td>\n",
       "      <td>2017-03-08 10:08:07.801724</td>\n",
       "      <td>0657cf64-28f7-49ce-8554-6eb7f032787c</td>\n",
       "      <td>2017-03-08 10:00:00</td>\n",
       "    </tr>\n",
       "    <tr>\n",
       "      <th>2</th>\n",
       "      <td>8.065796e+09</td>\n",
       "      <td>D</td>\n",
       "      <td>transfer_success</td>\n",
       "      <td>A</td>\n",
       "      <td>2017-03-08 10:12:49.214290</td>\n",
       "      <td>a55b6c74-a8bb-4c5a-825e-bf44191be894</td>\n",
       "      <td>2017-03-08 10:00:00</td>\n",
       "    </tr>\n",
       "    <tr>\n",
       "      <th>3</th>\n",
       "      <td>5.055894e+09</td>\n",
       "      <td>B</td>\n",
       "      <td>transfer_success</td>\n",
       "      <td>A</td>\n",
       "      <td>2017-03-08 10:08:02.167663</td>\n",
       "      <td>f757a4dd-3e16-4355-a3dc-2ade43ba5790</td>\n",
       "      <td>2017-03-08 10:00:00</td>\n",
       "    </tr>\n",
       "    <tr>\n",
       "      <th>4</th>\n",
       "      <td>4.990026e+09</td>\n",
       "      <td>C</td>\n",
       "      <td>transfer_success</td>\n",
       "      <td>A</td>\n",
       "      <td>2017-03-08 10:07:55.885942</td>\n",
       "      <td>ce6fc00c-ee54-4491-8487-0189ca47456d</td>\n",
       "      <td>2017-03-08 10:00:00</td>\n",
       "    </tr>\n",
       "    <tr>\n",
       "      <th>...</th>\n",
       "      <td>...</td>\n",
       "      <td>...</td>\n",
       "      <td>...</td>\n",
       "      <td>...</td>\n",
       "      <td>...</td>\n",
       "      <td>...</td>\n",
       "      <td>...</td>\n",
       "    </tr>\n",
       "    <tr>\n",
       "      <th>999995</th>\n",
       "      <td>1.791897e+09</td>\n",
       "      <td>A</td>\n",
       "      <td>transfer-failed</td>\n",
       "      <td>D</td>\n",
       "      <td>2017-03-08 10:02:50.888589</td>\n",
       "      <td>35f098e3-0cab-48a3-8c4d-67cade829f4b</td>\n",
       "      <td>2017-03-08 10:00:00</td>\n",
       "    </tr>\n",
       "    <tr>\n",
       "      <th>999996</th>\n",
       "      <td>4.982574e+09</td>\n",
       "      <td>B</td>\n",
       "      <td>transfer-failed</td>\n",
       "      <td>E</td>\n",
       "      <td>2017-03-08 10:07:55.175247</td>\n",
       "      <td>5ac20d43-a237-4482-bc55-eb35f479cbfe</td>\n",
       "      <td>2017-03-08 10:00:00</td>\n",
       "    </tr>\n",
       "    <tr>\n",
       "      <th>999997</th>\n",
       "      <td>1.896472e+09</td>\n",
       "      <td>B</td>\n",
       "      <td>transfer-failed</td>\n",
       "      <td>C</td>\n",
       "      <td>2017-03-08 10:03:00.861620</td>\n",
       "      <td>a5613c0b-b872-4a81-b484-09340726ce2e</td>\n",
       "      <td>2017-03-08 10:00:00</td>\n",
       "    </tr>\n",
       "    <tr>\n",
       "      <th>999998</th>\n",
       "      <td>1.617743e+09</td>\n",
       "      <td>D</td>\n",
       "      <td>transfer-failed</td>\n",
       "      <td>B</td>\n",
       "      <td>2017-03-08 10:02:34.280043</td>\n",
       "      <td>31039119-d8d7-4bc8-b250-f298bdfb46d9</td>\n",
       "      <td>2017-03-08 10:00:00</td>\n",
       "    </tr>\n",
       "    <tr>\n",
       "      <th>999999</th>\n",
       "      <td>7.691422e+09</td>\n",
       "      <td>D</td>\n",
       "      <td>transfer-failed</td>\n",
       "      <td>C</td>\n",
       "      <td>2017-03-08 10:12:13.511135</td>\n",
       "      <td>79160b50-5ebd-430d-a665-0addaae4d5bb</td>\n",
       "      <td>2017-03-08 10:00:00</td>\n",
       "    </tr>\n",
       "  </tbody>\n",
       "</table>\n",
       "<p>1000000 rows × 7 columns</p>\n",
       "</div>"
      ],
      "text/plain": [
       "               bytes dst_site        event_type src_site  \\\n",
       "0       2.113857e+09        C  transfer_success        D   \n",
       "1       5.114972e+09        B  transfer_success        A   \n",
       "2       8.065796e+09        D  transfer_success        A   \n",
       "3       5.055894e+09        B  transfer_success        A   \n",
       "4       4.990026e+09        C  transfer_success        A   \n",
       "...              ...      ...               ...      ...   \n",
       "999995  1.791897e+09        A   transfer-failed        D   \n",
       "999996  4.982574e+09        B   transfer-failed        E   \n",
       "999997  1.896472e+09        B   transfer-failed        C   \n",
       "999998  1.617743e+09        D   transfer-failed        B   \n",
       "999999  7.691422e+09        D   transfer-failed        C   \n",
       "\n",
       "                       timestamp_x                                  uuid  \\\n",
       "0       2017-03-08 10:03:21.593124  31a846c9-9ba0-45b7-825a-247b5a6d70c1   \n",
       "1       2017-03-08 10:08:07.801724  0657cf64-28f7-49ce-8554-6eb7f032787c   \n",
       "2       2017-03-08 10:12:49.214290  a55b6c74-a8bb-4c5a-825e-bf44191be894   \n",
       "3       2017-03-08 10:08:02.167663  f757a4dd-3e16-4355-a3dc-2ade43ba5790   \n",
       "4       2017-03-08 10:07:55.885942  ce6fc00c-ee54-4491-8487-0189ca47456d   \n",
       "...                            ...                                   ...   \n",
       "999995  2017-03-08 10:02:50.888589  35f098e3-0cab-48a3-8c4d-67cade829f4b   \n",
       "999996  2017-03-08 10:07:55.175247  5ac20d43-a237-4482-bc55-eb35f479cbfe   \n",
       "999997  2017-03-08 10:03:00.861620  a5613c0b-b872-4a81-b484-09340726ce2e   \n",
       "999998  2017-03-08 10:02:34.280043  31039119-d8d7-4bc8-b250-f298bdfb46d9   \n",
       "999999  2017-03-08 10:12:13.511135  79160b50-5ebd-430d-a665-0addaae4d5bb   \n",
       "\n",
       "                timestamp_y  \n",
       "0       2017-03-08 10:00:00  \n",
       "1       2017-03-08 10:00:00  \n",
       "2       2017-03-08 10:00:00  \n",
       "3       2017-03-08 10:00:00  \n",
       "4       2017-03-08 10:00:00  \n",
       "...                     ...  \n",
       "999995  2017-03-08 10:00:00  \n",
       "999996  2017-03-08 10:00:00  \n",
       "999997  2017-03-08 10:00:00  \n",
       "999998  2017-03-08 10:00:00  \n",
       "999999  2017-03-08 10:00:00  \n",
       "\n",
       "[1000000 rows x 7 columns]"
      ]
     },
     "execution_count": 42,
     "metadata": {},
     "output_type": "execute_result"
    }
   ],
   "source": [
    "# The two sets are merged on the on UUID common key\n",
    "\n",
    "df_final = pd.merge(df_end,df_start[[\"uuid\",\"timestamp\"]],on=\"uuid\")\n",
    "df_final"
   ]
  },
  {
   "cell_type": "markdown",
   "metadata": {},
   "source": [
    "### The Transfer duration is calculated from the above data and stored"
   ]
  },
  {
   "cell_type": "code",
   "execution_count": 43,
   "metadata": {
    "collapsed": false
   },
   "outputs": [],
   "source": [
    "df_final[\"timestamp_x\"] = pd.to_datetime(df_final[\"timestamp_x\"])\n",
    "df_final[\"timestamp_y\"] = pd.to_datetime(df_final[\"timestamp_y\"])\n",
    "\n",
    "df_final[\"timestamp\"] = df_final[\"timestamp_x\"] - df_final[\"timestamp_y\"]\n",
    "df_final = df_final.drop([\"timestamp_x\",\"timestamp_y\"],axis=1)"
   ]
  },
  {
   "cell_type": "code",
   "execution_count": 44,
   "metadata": {
    "collapsed": false
   },
   "outputs": [],
   "source": [
    "df_final[\"timestamp\"] = df_final[\"timestamp\"].dt.total_seconds()"
   ]
  },
  {
   "cell_type": "code",
   "execution_count": 45,
   "metadata": {
    "collapsed": false,
    "scrolled": true
   },
   "outputs": [
    {
     "data": {
      "text/html": [
       "<div>\n",
       "<table border=\"1\" class=\"dataframe\">\n",
       "  <thead>\n",
       "    <tr style=\"text-align: right;\">\n",
       "      <th></th>\n",
       "      <th>bytes</th>\n",
       "      <th>dst_site</th>\n",
       "      <th>event_type</th>\n",
       "      <th>src_site</th>\n",
       "      <th>uuid</th>\n",
       "      <th>timestamp</th>\n",
       "    </tr>\n",
       "  </thead>\n",
       "  <tbody>\n",
       "    <tr>\n",
       "      <th>0</th>\n",
       "      <td>2.113857e+09</td>\n",
       "      <td>C</td>\n",
       "      <td>transfer_success</td>\n",
       "      <td>D</td>\n",
       "      <td>31a846c9-9ba0-45b7-825a-247b5a6d70c1</td>\n",
       "      <td>201.593124</td>\n",
       "    </tr>\n",
       "    <tr>\n",
       "      <th>1</th>\n",
       "      <td>5.114972e+09</td>\n",
       "      <td>B</td>\n",
       "      <td>transfer_success</td>\n",
       "      <td>A</td>\n",
       "      <td>0657cf64-28f7-49ce-8554-6eb7f032787c</td>\n",
       "      <td>487.801724</td>\n",
       "    </tr>\n",
       "    <tr>\n",
       "      <th>2</th>\n",
       "      <td>8.065796e+09</td>\n",
       "      <td>D</td>\n",
       "      <td>transfer_success</td>\n",
       "      <td>A</td>\n",
       "      <td>a55b6c74-a8bb-4c5a-825e-bf44191be894</td>\n",
       "      <td>769.214290</td>\n",
       "    </tr>\n",
       "    <tr>\n",
       "      <th>3</th>\n",
       "      <td>5.055894e+09</td>\n",
       "      <td>B</td>\n",
       "      <td>transfer_success</td>\n",
       "      <td>A</td>\n",
       "      <td>f757a4dd-3e16-4355-a3dc-2ade43ba5790</td>\n",
       "      <td>482.167663</td>\n",
       "    </tr>\n",
       "    <tr>\n",
       "      <th>4</th>\n",
       "      <td>4.990026e+09</td>\n",
       "      <td>C</td>\n",
       "      <td>transfer_success</td>\n",
       "      <td>A</td>\n",
       "      <td>ce6fc00c-ee54-4491-8487-0189ca47456d</td>\n",
       "      <td>475.885942</td>\n",
       "    </tr>\n",
       "    <tr>\n",
       "      <th>...</th>\n",
       "      <td>...</td>\n",
       "      <td>...</td>\n",
       "      <td>...</td>\n",
       "      <td>...</td>\n",
       "      <td>...</td>\n",
       "      <td>...</td>\n",
       "    </tr>\n",
       "    <tr>\n",
       "      <th>999995</th>\n",
       "      <td>1.791897e+09</td>\n",
       "      <td>A</td>\n",
       "      <td>transfer-failed</td>\n",
       "      <td>D</td>\n",
       "      <td>35f098e3-0cab-48a3-8c4d-67cade829f4b</td>\n",
       "      <td>170.888589</td>\n",
       "    </tr>\n",
       "    <tr>\n",
       "      <th>999996</th>\n",
       "      <td>4.982574e+09</td>\n",
       "      <td>B</td>\n",
       "      <td>transfer-failed</td>\n",
       "      <td>E</td>\n",
       "      <td>5ac20d43-a237-4482-bc55-eb35f479cbfe</td>\n",
       "      <td>475.175247</td>\n",
       "    </tr>\n",
       "    <tr>\n",
       "      <th>999997</th>\n",
       "      <td>1.896472e+09</td>\n",
       "      <td>B</td>\n",
       "      <td>transfer-failed</td>\n",
       "      <td>C</td>\n",
       "      <td>a5613c0b-b872-4a81-b484-09340726ce2e</td>\n",
       "      <td>180.861620</td>\n",
       "    </tr>\n",
       "    <tr>\n",
       "      <th>999998</th>\n",
       "      <td>1.617743e+09</td>\n",
       "      <td>D</td>\n",
       "      <td>transfer-failed</td>\n",
       "      <td>B</td>\n",
       "      <td>31039119-d8d7-4bc8-b250-f298bdfb46d9</td>\n",
       "      <td>154.280043</td>\n",
       "    </tr>\n",
       "    <tr>\n",
       "      <th>999999</th>\n",
       "      <td>7.691422e+09</td>\n",
       "      <td>D</td>\n",
       "      <td>transfer-failed</td>\n",
       "      <td>C</td>\n",
       "      <td>79160b50-5ebd-430d-a665-0addaae4d5bb</td>\n",
       "      <td>733.511135</td>\n",
       "    </tr>\n",
       "  </tbody>\n",
       "</table>\n",
       "<p>1000000 rows × 6 columns</p>\n",
       "</div>"
      ],
      "text/plain": [
       "               bytes dst_site        event_type src_site  \\\n",
       "0       2.113857e+09        C  transfer_success        D   \n",
       "1       5.114972e+09        B  transfer_success        A   \n",
       "2       8.065796e+09        D  transfer_success        A   \n",
       "3       5.055894e+09        B  transfer_success        A   \n",
       "4       4.990026e+09        C  transfer_success        A   \n",
       "...              ...      ...               ...      ...   \n",
       "999995  1.791897e+09        A   transfer-failed        D   \n",
       "999996  4.982574e+09        B   transfer-failed        E   \n",
       "999997  1.896472e+09        B   transfer-failed        C   \n",
       "999998  1.617743e+09        D   transfer-failed        B   \n",
       "999999  7.691422e+09        D   transfer-failed        C   \n",
       "\n",
       "                                        uuid   timestamp  \n",
       "0       31a846c9-9ba0-45b7-825a-247b5a6d70c1  201.593124  \n",
       "1       0657cf64-28f7-49ce-8554-6eb7f032787c  487.801724  \n",
       "2       a55b6c74-a8bb-4c5a-825e-bf44191be894  769.214290  \n",
       "3       f757a4dd-3e16-4355-a3dc-2ade43ba5790  482.167663  \n",
       "4       ce6fc00c-ee54-4491-8487-0189ca47456d  475.885942  \n",
       "...                                      ...         ...  \n",
       "999995  35f098e3-0cab-48a3-8c4d-67cade829f4b  170.888589  \n",
       "999996  5ac20d43-a237-4482-bc55-eb35f479cbfe  475.175247  \n",
       "999997  a5613c0b-b872-4a81-b484-09340726ce2e  180.861620  \n",
       "999998  31039119-d8d7-4bc8-b250-f298bdfb46d9  154.280043  \n",
       "999999  79160b50-5ebd-430d-a665-0addaae4d5bb  733.511135  \n",
       "\n",
       "[1000000 rows x 6 columns]"
      ]
     },
     "execution_count": 45,
     "metadata": {},
     "output_type": "execute_result"
    }
   ],
   "source": [
    "df_final"
   ]
  },
  {
   "cell_type": "code",
   "execution_count": 46,
   "metadata": {
    "collapsed": false
   },
   "outputs": [],
   "source": [
    "# The dataframe can be stored in CSV format for future processing wth data instead of loading the whole data every time\n",
    "\n",
    "# df_final.to_csv(\"final.csv\",header=True,index = False)"
   ]
  },
  {
   "cell_type": "code",
   "execution_count": 47,
   "metadata": {
    "collapsed": false
   },
   "outputs": [],
   "source": [
    "# df_final = pd.read_csv(\"final.csv\")"
   ]
  },
  {
   "cell_type": "markdown",
   "metadata": {},
   "source": [
    "# Data Analysis ,Exploration and Visualization"
   ]
  },
  {
   "cell_type": "markdown",
   "metadata": {},
   "source": [
    "## Univariate Data Analysis"
   ]
  },
  {
   "cell_type": "code",
   "execution_count": 39,
   "metadata": {
    "collapsed": false
   },
   "outputs": [
    {
     "data": {
      "image/png": "[encoded data removed]",
      "text/plain": [
       "<matplotlib.figure.Figure at 0x7f04edfaef90>"
      ]
     },
     "metadata": {},
     "output_type": "display_data"
    }
   ],
   "source": [
    "sns.distplot(df_final[\"bytes\"]);\n",
    "plt.show()"
   ]
  },
  {
   "cell_type": "markdown",
   "metadata": {},
   "source": [
    "**The above plot shows a Gaussian distribution of #bytes transferred.**"
   ]
  },
  {
   "cell_type": "code",
   "execution_count": 40,
   "metadata": {
    "collapsed": false
   },
   "outputs": [
    {
     "data": {
      "image/png": "[encoded data removed]",
      "text/plain": [
       "<matplotlib.figure.Figure at 0x7f04ea8a9cd0>"
      ]
     },
     "metadata": {},
     "output_type": "display_data"
    }
   ],
   "source": [
    "sns.distplot(df_final[\"timestamp\"]);\n",
    "plt.show()"
   ]
  },
  {
   "cell_type": "markdown",
   "metadata": {},
   "source": [
    "**The above plot shows a distribution of Transfer Duration**"
   ]
  },
  {
   "cell_type": "code",
   "execution_count": 48,
   "metadata": {
    "collapsed": false
   },
   "outputs": [
    {
     "data": {
      "image/png": "[encoded data removed]",
      "text/plain": [
       "<matplotlib.figure.Figure at 0x7f04e3258250>"
      ]
     },
     "metadata": {},
     "output_type": "display_data"
    }
   ],
   "source": [
    "sns.countplot(x=\"event_type\", data=df_final, palette=\"BuGn_r\");\n",
    "plt.show()"
   ]
  },
  {
   "cell_type": "markdown",
   "metadata": {},
   "source": [
    "**The graph shows different final event type distribution.**"
   ]
  },
  {
   "cell_type": "code",
   "execution_count": 49,
   "metadata": {
    "collapsed": false
   },
   "outputs": [
    {
     "data": {
      "image/png": "[encoded data removed]",
      "text/plain": [
       "<matplotlib.figure.Figure at 0x7f04e32d1490>"
      ]
     },
     "metadata": {},
     "output_type": "display_data"
    }
   ],
   "source": [
    "sns.countplot(x=\"src_site\", data=df_final, palette=\"GnBu_d\");\n",
    "plt.show()"
   ]
  },
  {
   "cell_type": "markdown",
   "metadata": {},
   "source": [
    "**The above graph frquency distribution across different source sites.**"
   ]
  },
  {
   "cell_type": "markdown",
   "metadata": {},
   "source": [
    "## Bivariate Data Analysis"
   ]
  },
  {
   "cell_type": "code",
   "execution_count": 50,
   "metadata": {
    "collapsed": false
   },
   "outputs": [
    {
     "data": {
      "image/png": "[encoded data removed]",
      "text/plain": [
       "<matplotlib.figure.Figure at 0x7f04e1858950>"
      ]
     },
     "metadata": {},
     "output_type": "display_data"
    }
   ],
   "source": [
    "sns.jointplot(x=\"bytes\", y=\"timestamp\", data=df_final);\n",
    "plt.show()"
   ]
  },
  {
   "cell_type": "markdown",
   "metadata": {},
   "source": [
    "**The above plot show the linear relationship between Time duration and bytes with Pearson correlation coefficient  =1**"
   ]
  },
  {
   "cell_type": "code",
   "execution_count": 52,
   "metadata": {
    "collapsed": false
   },
   "outputs": [
    {
     "data": {
      "image/png": "[encoded data removed]",
      "text/plain": [
       "<matplotlib.figure.Figure at 0x7f04e3d0be10>"
      ]
     },
     "metadata": {},
     "output_type": "display_data"
    }
   ],
   "source": [
    "sns.boxplot(x=\"src_site\", y=\"bytes\",hue=\"dst_site\",data=df_final);\n",
    "plt.show()"
   ]
  },
  {
   "cell_type": "markdown",
   "metadata": {},
   "source": [
    "**The above plot shows the Transfer duration distribution for data(#Bytes) throughput between every pair of site.**"
   ]
  },
  {
   "cell_type": "code",
   "execution_count": 53,
   "metadata": {
    "collapsed": false
   },
   "outputs": [
    {
     "data": {
      "image/png": "[encoded data removed]",
      "text/plain": [
       "<matplotlib.figure.Figure at 0x7f04e2ffa990>"
      ]
     },
     "metadata": {},
     "output_type": "display_data"
    }
   ],
   "source": [
    "sns.countplot(x=\"src_site\", data=df_final,hue=\"dst_site\", palette=\"Greens_d\");\n",
    "plt.show()"
   ]
  },
  {
   "cell_type": "markdown",
   "metadata": {},
   "source": [
    "**The above plot shows the count(frequency)of number of files throughput between Source and destination sites.**"
   ]
  },
  {
   "cell_type": "code",
   "execution_count": 54,
   "metadata": {
    "collapsed": false
   },
   "outputs": [
    {
     "data": {
      "image/png": "[encoded data removed]",
      "text/plain": [
       "<matplotlib.figure.Figure at 0x7f04e2580dd0>"
      ]
     },
     "metadata": {},
     "output_type": "display_data"
    }
   ],
   "source": [
    "sns.countplot(x=\"src_site\", data=df_final,hue=\"event_type\", palette=\"BuGn_r\");\n",
    "plt.show()"
   ]
  },
  {
   "cell_type": "markdown",
   "metadata": {},
   "source": [
    "**The above plot shows the count(frequency)of number of files throughput by source for different event types.**"
   ]
  },
  {
   "cell_type": "markdown",
   "metadata": {},
   "source": [
    "### Coversion of categorical text data to numeric form."
   ]
  },
  {
   "cell_type": "code",
   "execution_count": 55,
   "metadata": {
    "collapsed": false
   },
   "outputs": [
    {
     "name": "stdout",
     "output_type": "stream",
     "text": [
      "Index([u'A', u'B', u'C', u'D', u'E'], dtype='object')\n",
      "Index([u'A', u'B', u'C', u'D', u'E'], dtype='object')\n",
      "Index([u'transfer-failed', u'transfer_success'], dtype='object')\n"
     ]
    }
   ],
   "source": [
    "df_final['dst_site'] = df_final['dst_site'].astype('category')\n",
    "print df_final[\"dst_site\"].cat.categories\n",
    "df_final['src_site'] = df_final['src_site'].astype('category')\n",
    "print df_final[\"src_site\"].cat.categories\n",
    "df_final['event_type'] = df_final['event_type'].astype('category')\n",
    "print df_final[\"event_type\"].cat.categories"
   ]
  },
  {
   "cell_type": "code",
   "execution_count": 56,
   "metadata": {
    "collapsed": false
   },
   "outputs": [],
   "source": [
    "cat_columns = df_final.select_dtypes(['category']).columns"
   ]
  },
  {
   "cell_type": "code",
   "execution_count": 57,
   "metadata": {
    "collapsed": true
   },
   "outputs": [],
   "source": [
    "df_final[cat_columns] = df_final[cat_columns].apply(lambda x: x.cat.codes)"
   ]
  },
  {
   "cell_type": "code",
   "execution_count": 58,
   "metadata": {
    "collapsed": false,
    "scrolled": false
   },
   "outputs": [
    {
     "data": {
      "text/html": [
       "<div>\n",
       "<table border=\"1\" class=\"dataframe\">\n",
       "  <thead>\n",
       "    <tr style=\"text-align: right;\">\n",
       "      <th></th>\n",
       "      <th>bytes</th>\n",
       "      <th>dst_site</th>\n",
       "      <th>event_type</th>\n",
       "      <th>src_site</th>\n",
       "      <th>uuid</th>\n",
       "      <th>timestamp</th>\n",
       "    </tr>\n",
       "  </thead>\n",
       "  <tbody>\n",
       "    <tr>\n",
       "      <th>0</th>\n",
       "      <td>2.113857e+09</td>\n",
       "      <td>2</td>\n",
       "      <td>1</td>\n",
       "      <td>3</td>\n",
       "      <td>31a846c9-9ba0-45b7-825a-247b5a6d70c1</td>\n",
       "      <td>201.593124</td>\n",
       "    </tr>\n",
       "    <tr>\n",
       "      <th>1</th>\n",
       "      <td>5.114972e+09</td>\n",
       "      <td>1</td>\n",
       "      <td>1</td>\n",
       "      <td>0</td>\n",
       "      <td>0657cf64-28f7-49ce-8554-6eb7f032787c</td>\n",
       "      <td>487.801724</td>\n",
       "    </tr>\n",
       "    <tr>\n",
       "      <th>2</th>\n",
       "      <td>8.065796e+09</td>\n",
       "      <td>3</td>\n",
       "      <td>1</td>\n",
       "      <td>0</td>\n",
       "      <td>a55b6c74-a8bb-4c5a-825e-bf44191be894</td>\n",
       "      <td>769.214290</td>\n",
       "    </tr>\n",
       "    <tr>\n",
       "      <th>3</th>\n",
       "      <td>5.055894e+09</td>\n",
       "      <td>1</td>\n",
       "      <td>1</td>\n",
       "      <td>0</td>\n",
       "      <td>f757a4dd-3e16-4355-a3dc-2ade43ba5790</td>\n",
       "      <td>482.167663</td>\n",
       "    </tr>\n",
       "    <tr>\n",
       "      <th>4</th>\n",
       "      <td>4.990026e+09</td>\n",
       "      <td>2</td>\n",
       "      <td>1</td>\n",
       "      <td>0</td>\n",
       "      <td>ce6fc00c-ee54-4491-8487-0189ca47456d</td>\n",
       "      <td>475.885942</td>\n",
       "    </tr>\n",
       "    <tr>\n",
       "      <th>...</th>\n",
       "      <td>...</td>\n",
       "      <td>...</td>\n",
       "      <td>...</td>\n",
       "      <td>...</td>\n",
       "      <td>...</td>\n",
       "      <td>...</td>\n",
       "    </tr>\n",
       "    <tr>\n",
       "      <th>999995</th>\n",
       "      <td>1.791897e+09</td>\n",
       "      <td>0</td>\n",
       "      <td>0</td>\n",
       "      <td>3</td>\n",
       "      <td>35f098e3-0cab-48a3-8c4d-67cade829f4b</td>\n",
       "      <td>170.888589</td>\n",
       "    </tr>\n",
       "    <tr>\n",
       "      <th>999996</th>\n",
       "      <td>4.982574e+09</td>\n",
       "      <td>1</td>\n",
       "      <td>0</td>\n",
       "      <td>4</td>\n",
       "      <td>5ac20d43-a237-4482-bc55-eb35f479cbfe</td>\n",
       "      <td>475.175247</td>\n",
       "    </tr>\n",
       "    <tr>\n",
       "      <th>999997</th>\n",
       "      <td>1.896472e+09</td>\n",
       "      <td>1</td>\n",
       "      <td>0</td>\n",
       "      <td>2</td>\n",
       "      <td>a5613c0b-b872-4a81-b484-09340726ce2e</td>\n",
       "      <td>180.861620</td>\n",
       "    </tr>\n",
       "    <tr>\n",
       "      <th>999998</th>\n",
       "      <td>1.617743e+09</td>\n",
       "      <td>3</td>\n",
       "      <td>0</td>\n",
       "      <td>1</td>\n",
       "      <td>31039119-d8d7-4bc8-b250-f298bdfb46d9</td>\n",
       "      <td>154.280043</td>\n",
       "    </tr>\n",
       "    <tr>\n",
       "      <th>999999</th>\n",
       "      <td>7.691422e+09</td>\n",
       "      <td>3</td>\n",
       "      <td>0</td>\n",
       "      <td>2</td>\n",
       "      <td>79160b50-5ebd-430d-a665-0addaae4d5bb</td>\n",
       "      <td>733.511135</td>\n",
       "    </tr>\n",
       "  </tbody>\n",
       "</table>\n",
       "<p>1000000 rows × 6 columns</p>\n",
       "</div>"
      ],
      "text/plain": [
       "               bytes  dst_site  event_type  src_site  \\\n",
       "0       2.113857e+09         2           1         3   \n",
       "1       5.114972e+09         1           1         0   \n",
       "2       8.065796e+09         3           1         0   \n",
       "3       5.055894e+09         1           1         0   \n",
       "4       4.990026e+09         2           1         0   \n",
       "...              ...       ...         ...       ...   \n",
       "999995  1.791897e+09         0           0         3   \n",
       "999996  4.982574e+09         1           0         4   \n",
       "999997  1.896472e+09         1           0         2   \n",
       "999998  1.617743e+09         3           0         1   \n",
       "999999  7.691422e+09         3           0         2   \n",
       "\n",
       "                                        uuid   timestamp  \n",
       "0       31a846c9-9ba0-45b7-825a-247b5a6d70c1  201.593124  \n",
       "1       0657cf64-28f7-49ce-8554-6eb7f032787c  487.801724  \n",
       "2       a55b6c74-a8bb-4c5a-825e-bf44191be894  769.214290  \n",
       "3       f757a4dd-3e16-4355-a3dc-2ade43ba5790  482.167663  \n",
       "4       ce6fc00c-ee54-4491-8487-0189ca47456d  475.885942  \n",
       "...                                      ...         ...  \n",
       "999995  35f098e3-0cab-48a3-8c4d-67cade829f4b  170.888589  \n",
       "999996  5ac20d43-a237-4482-bc55-eb35f479cbfe  475.175247  \n",
       "999997  a5613c0b-b872-4a81-b484-09340726ce2e  180.861620  \n",
       "999998  31039119-d8d7-4bc8-b250-f298bdfb46d9  154.280043  \n",
       "999999  79160b50-5ebd-430d-a665-0addaae4d5bb  733.511135  \n",
       "\n",
       "[1000000 rows x 6 columns]"
      ]
     },
     "execution_count": 58,
     "metadata": {},
     "output_type": "execute_result"
    }
   ],
   "source": [
    "df_final"
   ]
  },
  {
   "cell_type": "code",
   "execution_count": 59,
   "metadata": {
    "collapsed": false
   },
   "outputs": [
    {
     "data": {
      "image/png": "[encoded data removed]",
      "text/plain": [
       "<matplotlib.figure.Figure at 0x7f04e29ad950>"
      ]
     },
     "metadata": {},
     "output_type": "display_data"
    }
   ],
   "source": [
    "sns.barplot(x=\"src_site\", y=\"dst_site\",hue=\"event_type\", data=df_final);\n",
    "plt.show()"
   ]
  },
  {
   "cell_type": "markdown",
   "metadata": {},
   "source": [
    "## Feature Selection\n",
    "\n",
    "**This is one of the important step in a ML pipeline.The Filter method technique was used for this.**\n",
    "\n",
    "**Visualize_ML(https://github.com/ayush1997/visualize_ML) is a Self made Python Package used for steps like Data Analysis and feature selection(filter method.)\n",
    "PLease install package and uncomment the below code in case you want to test and produce the result though I have uploaded the results below.**"
   ]
  },
  {
   "cell_type": "code",
   "execution_count": 60,
   "metadata": {
    "collapsed": true
   },
   "outputs": [],
   "source": [
    "# from visualize_ML import relation\n",
    "\n",
    "# relation.plot(df_final,\"timestamp\",[\"event_type\",\"dst_site\",\"src_site\"],drop=[\"uuid\"],bin_size=10)"
   ]
  },
  {
   "cell_type": "code",
   "execution_count": 61,
   "metadata": {
    "collapsed": true
   },
   "outputs": [],
   "source": [
    "import os\n",
    "from IPython.display import display, Image"
   ]
  },
  {
   "cell_type": "code",
   "execution_count": 62,
   "metadata": {
    "collapsed": false
   },
   "outputs": [
    {
     "data": {
      "image/png": "[encoded data removed]",
      "text/plain": [
       "<IPython.core.display.Image object>"
      ]
     },
     "metadata": {
      "image/png": {
       "width": 300
      }
     },
     "output_type": "display_data"
    }
   ],
   "source": [
    "# src_site vs timestamp(transfer duration)\n",
    "\n",
    "display(Image('src.png', width=300))"
   ]
  },
  {
   "cell_type": "code",
   "execution_count": 63,
   "metadata": {
    "collapsed": false,
    "scrolled": true
   },
   "outputs": [
    {
     "data": {
      "image/png": "[encoded data removed]",
      "text/plain": [
       "<IPython.core.display.Image object>"
      ]
     },
     "metadata": {
      "image/png": {
       "width": 300
      }
     },
     "output_type": "display_data"
    }
   ],
   "source": [
    "# dst_site vs timestamp(transfer duration)\n",
    "\n",
    "display(Image('dst.png', width=300))"
   ]
  },
  {
   "cell_type": "code",
   "execution_count": 64,
   "metadata": {
    "collapsed": false
   },
   "outputs": [
    {
     "data": {
      "image/png": "[encoded data removed]",
      "text/plain": [
       "<IPython.core.display.Image object>"
      ]
     },
     "metadata": {
      "image/png": {
       "width": 300
      }
     },
     "output_type": "display_data"
    }
   ],
   "source": [
    "# event_type vs timestamp(transfer duration)\n",
    "\n",
    "display(Image('event.png', width=300))"
   ]
  },
  {
   "cell_type": "markdown",
   "metadata": {},
   "source": [
    "**From the analysis and filter method consideration the P_VALUES for categorical features SRC_SITE,DST_SITE and EVENT_TYPE were found to be > 0.05 showing least dependence of Target variable(Transfer Duration ) with these variables.\n",
    "Whereas the Pearson correlation for continous variable #BYTES was found to be 1 showing its direct positive relation with the Transfer rate.Therefore #Bytes was taken as the only trainig variable for this task**\n",
    "**The model was trained on other 3 variables as well and as expected gave less accuracy than this.**"
   ]
  },
  {
   "cell_type": "markdown",
   "metadata": {
    "collapsed": true
   },
   "source": [
    "### Some Data processing\n",
    "**Converting the categorical parameters to One-Hot encoded dummies form.**"
   ]
  },
  {
   "cell_type": "code",
   "execution_count": 65,
   "metadata": {
    "collapsed": false
   },
   "outputs": [],
   "source": [
    "y = pd.get_dummies(df_final['event_type'],prefix=\"event\")\n",
    "df_final = pd.concat([df_final,y],axis=1)\n",
    "y = pd.get_dummies(df_final['src_site'],prefix=\"src\")\n",
    "df_final = pd.concat([df_final,y],axis=1)\n",
    "y = pd.get_dummies(df_final['dst_site'],prefix=\"dst\")\n",
    "df_final = pd.concat([df_final,y],axis=1)"
   ]
  },
  {
   "cell_type": "code",
   "execution_count": 66,
   "metadata": {
    "collapsed": false,
    "scrolled": true
   },
   "outputs": [
    {
     "data": {
      "text/html": [
       "<div>\n",
       "<table border=\"1\" class=\"dataframe\">\n",
       "  <thead>\n",
       "    <tr style=\"text-align: right;\">\n",
       "      <th></th>\n",
       "      <th>bytes</th>\n",
       "      <th>dst_site</th>\n",
       "      <th>event_type</th>\n",
       "      <th>src_site</th>\n",
       "      <th>uuid</th>\n",
       "      <th>timestamp</th>\n",
       "      <th>event_0</th>\n",
       "      <th>event_1</th>\n",
       "      <th>src_0</th>\n",
       "      <th>src_1</th>\n",
       "      <th>src_2</th>\n",
       "      <th>src_3</th>\n",
       "      <th>src_4</th>\n",
       "      <th>dst_0</th>\n",
       "      <th>dst_1</th>\n",
       "      <th>dst_2</th>\n",
       "      <th>dst_3</th>\n",
       "      <th>dst_4</th>\n",
       "    </tr>\n",
       "  </thead>\n",
       "  <tbody>\n",
       "    <tr>\n",
       "      <th>0</th>\n",
       "      <td>2.113857e+09</td>\n",
       "      <td>2</td>\n",
       "      <td>1</td>\n",
       "      <td>3</td>\n",
       "      <td>31a846c9-9ba0-45b7-825a-247b5a6d70c1</td>\n",
       "      <td>201.593124</td>\n",
       "      <td>0.0</td>\n",
       "      <td>1.0</td>\n",
       "      <td>0.0</td>\n",
       "      <td>0.0</td>\n",
       "      <td>0.0</td>\n",
       "      <td>1.0</td>\n",
       "      <td>0.0</td>\n",
       "      <td>0.0</td>\n",
       "      <td>0.0</td>\n",
       "      <td>1.0</td>\n",
       "      <td>0.0</td>\n",
       "      <td>0.0</td>\n",
       "    </tr>\n",
       "    <tr>\n",
       "      <th>1</th>\n",
       "      <td>5.114972e+09</td>\n",
       "      <td>1</td>\n",
       "      <td>1</td>\n",
       "      <td>0</td>\n",
       "      <td>0657cf64-28f7-49ce-8554-6eb7f032787c</td>\n",
       "      <td>487.801724</td>\n",
       "      <td>0.0</td>\n",
       "      <td>1.0</td>\n",
       "      <td>1.0</td>\n",
       "      <td>0.0</td>\n",
       "      <td>0.0</td>\n",
       "      <td>0.0</td>\n",
       "      <td>0.0</td>\n",
       "      <td>0.0</td>\n",
       "      <td>1.0</td>\n",
       "      <td>0.0</td>\n",
       "      <td>0.0</td>\n",
       "      <td>0.0</td>\n",
       "    </tr>\n",
       "    <tr>\n",
       "      <th>2</th>\n",
       "      <td>8.065796e+09</td>\n",
       "      <td>3</td>\n",
       "      <td>1</td>\n",
       "      <td>0</td>\n",
       "      <td>a55b6c74-a8bb-4c5a-825e-bf44191be894</td>\n",
       "      <td>769.214290</td>\n",
       "      <td>0.0</td>\n",
       "      <td>1.0</td>\n",
       "      <td>1.0</td>\n",
       "      <td>0.0</td>\n",
       "      <td>0.0</td>\n",
       "      <td>0.0</td>\n",
       "      <td>0.0</td>\n",
       "      <td>0.0</td>\n",
       "      <td>0.0</td>\n",
       "      <td>0.0</td>\n",
       "      <td>1.0</td>\n",
       "      <td>0.0</td>\n",
       "    </tr>\n",
       "    <tr>\n",
       "      <th>3</th>\n",
       "      <td>5.055894e+09</td>\n",
       "      <td>1</td>\n",
       "      <td>1</td>\n",
       "      <td>0</td>\n",
       "      <td>f757a4dd-3e16-4355-a3dc-2ade43ba5790</td>\n",
       "      <td>482.167663</td>\n",
       "      <td>0.0</td>\n",
       "      <td>1.0</td>\n",
       "      <td>1.0</td>\n",
       "      <td>0.0</td>\n",
       "      <td>0.0</td>\n",
       "      <td>0.0</td>\n",
       "      <td>0.0</td>\n",
       "      <td>0.0</td>\n",
       "      <td>1.0</td>\n",
       "      <td>0.0</td>\n",
       "      <td>0.0</td>\n",
       "      <td>0.0</td>\n",
       "    </tr>\n",
       "    <tr>\n",
       "      <th>4</th>\n",
       "      <td>4.990026e+09</td>\n",
       "      <td>2</td>\n",
       "      <td>1</td>\n",
       "      <td>0</td>\n",
       "      <td>ce6fc00c-ee54-4491-8487-0189ca47456d</td>\n",
       "      <td>475.885942</td>\n",
       "      <td>0.0</td>\n",
       "      <td>1.0</td>\n",
       "      <td>1.0</td>\n",
       "      <td>0.0</td>\n",
       "      <td>0.0</td>\n",
       "      <td>0.0</td>\n",
       "      <td>0.0</td>\n",
       "      <td>0.0</td>\n",
       "      <td>0.0</td>\n",
       "      <td>1.0</td>\n",
       "      <td>0.0</td>\n",
       "      <td>0.0</td>\n",
       "    </tr>\n",
       "    <tr>\n",
       "      <th>...</th>\n",
       "      <td>...</td>\n",
       "      <td>...</td>\n",
       "      <td>...</td>\n",
       "      <td>...</td>\n",
       "      <td>...</td>\n",
       "      <td>...</td>\n",
       "      <td>...</td>\n",
       "      <td>...</td>\n",
       "      <td>...</td>\n",
       "      <td>...</td>\n",
       "      <td>...</td>\n",
       "      <td>...</td>\n",
       "      <td>...</td>\n",
       "      <td>...</td>\n",
       "      <td>...</td>\n",
       "      <td>...</td>\n",
       "      <td>...</td>\n",
       "      <td>...</td>\n",
       "    </tr>\n",
       "    <tr>\n",
       "      <th>999995</th>\n",
       "      <td>1.791897e+09</td>\n",
       "      <td>0</td>\n",
       "      <td>0</td>\n",
       "      <td>3</td>\n",
       "      <td>35f098e3-0cab-48a3-8c4d-67cade829f4b</td>\n",
       "      <td>170.888589</td>\n",
       "      <td>1.0</td>\n",
       "      <td>0.0</td>\n",
       "      <td>0.0</td>\n",
       "      <td>0.0</td>\n",
       "      <td>0.0</td>\n",
       "      <td>1.0</td>\n",
       "      <td>0.0</td>\n",
       "      <td>1.0</td>\n",
       "      <td>0.0</td>\n",
       "      <td>0.0</td>\n",
       "      <td>0.0</td>\n",
       "      <td>0.0</td>\n",
       "    </tr>\n",
       "    <tr>\n",
       "      <th>999996</th>\n",
       "      <td>4.982574e+09</td>\n",
       "      <td>1</td>\n",
       "      <td>0</td>\n",
       "      <td>4</td>\n",
       "      <td>5ac20d43-a237-4482-bc55-eb35f479cbfe</td>\n",
       "      <td>475.175247</td>\n",
       "      <td>1.0</td>\n",
       "      <td>0.0</td>\n",
       "      <td>0.0</td>\n",
       "      <td>0.0</td>\n",
       "      <td>0.0</td>\n",
       "      <td>0.0</td>\n",
       "      <td>1.0</td>\n",
       "      <td>0.0</td>\n",
       "      <td>1.0</td>\n",
       "      <td>0.0</td>\n",
       "      <td>0.0</td>\n",
       "      <td>0.0</td>\n",
       "    </tr>\n",
       "    <tr>\n",
       "      <th>999997</th>\n",
       "      <td>1.896472e+09</td>\n",
       "      <td>1</td>\n",
       "      <td>0</td>\n",
       "      <td>2</td>\n",
       "      <td>a5613c0b-b872-4a81-b484-09340726ce2e</td>\n",
       "      <td>180.861620</td>\n",
       "      <td>1.0</td>\n",
       "      <td>0.0</td>\n",
       "      <td>0.0</td>\n",
       "      <td>0.0</td>\n",
       "      <td>1.0</td>\n",
       "      <td>0.0</td>\n",
       "      <td>0.0</td>\n",
       "      <td>0.0</td>\n",
       "      <td>1.0</td>\n",
       "      <td>0.0</td>\n",
       "      <td>0.0</td>\n",
       "      <td>0.0</td>\n",
       "    </tr>\n",
       "    <tr>\n",
       "      <th>999998</th>\n",
       "      <td>1.617743e+09</td>\n",
       "      <td>3</td>\n",
       "      <td>0</td>\n",
       "      <td>1</td>\n",
       "      <td>31039119-d8d7-4bc8-b250-f298bdfb46d9</td>\n",
       "      <td>154.280043</td>\n",
       "      <td>1.0</td>\n",
       "      <td>0.0</td>\n",
       "      <td>0.0</td>\n",
       "      <td>1.0</td>\n",
       "      <td>0.0</td>\n",
       "      <td>0.0</td>\n",
       "      <td>0.0</td>\n",
       "      <td>0.0</td>\n",
       "      <td>0.0</td>\n",
       "      <td>0.0</td>\n",
       "      <td>1.0</td>\n",
       "      <td>0.0</td>\n",
       "    </tr>\n",
       "    <tr>\n",
       "      <th>999999</th>\n",
       "      <td>7.691422e+09</td>\n",
       "      <td>3</td>\n",
       "      <td>0</td>\n",
       "      <td>2</td>\n",
       "      <td>79160b50-5ebd-430d-a665-0addaae4d5bb</td>\n",
       "      <td>733.511135</td>\n",
       "      <td>1.0</td>\n",
       "      <td>0.0</td>\n",
       "      <td>0.0</td>\n",
       "      <td>0.0</td>\n",
       "      <td>1.0</td>\n",
       "      <td>0.0</td>\n",
       "      <td>0.0</td>\n",
       "      <td>0.0</td>\n",
       "      <td>0.0</td>\n",
       "      <td>0.0</td>\n",
       "      <td>1.0</td>\n",
       "      <td>0.0</td>\n",
       "    </tr>\n",
       "  </tbody>\n",
       "</table>\n",
       "<p>1000000 rows × 18 columns</p>\n",
       "</div>"
      ],
      "text/plain": [
       "               bytes  dst_site  event_type  src_site  \\\n",
       "0       2.113857e+09         2           1         3   \n",
       "1       5.114972e+09         1           1         0   \n",
       "2       8.065796e+09         3           1         0   \n",
       "3       5.055894e+09         1           1         0   \n",
       "4       4.990026e+09         2           1         0   \n",
       "...              ...       ...         ...       ...   \n",
       "999995  1.791897e+09         0           0         3   \n",
       "999996  4.982574e+09         1           0         4   \n",
       "999997  1.896472e+09         1           0         2   \n",
       "999998  1.617743e+09         3           0         1   \n",
       "999999  7.691422e+09         3           0         2   \n",
       "\n",
       "                                        uuid   timestamp  event_0  event_1  \\\n",
       "0       31a846c9-9ba0-45b7-825a-247b5a6d70c1  201.593124      0.0      1.0   \n",
       "1       0657cf64-28f7-49ce-8554-6eb7f032787c  487.801724      0.0      1.0   \n",
       "2       a55b6c74-a8bb-4c5a-825e-bf44191be894  769.214290      0.0      1.0   \n",
       "3       f757a4dd-3e16-4355-a3dc-2ade43ba5790  482.167663      0.0      1.0   \n",
       "4       ce6fc00c-ee54-4491-8487-0189ca47456d  475.885942      0.0      1.0   \n",
       "...                                      ...         ...      ...      ...   \n",
       "999995  35f098e3-0cab-48a3-8c4d-67cade829f4b  170.888589      1.0      0.0   \n",
       "999996  5ac20d43-a237-4482-bc55-eb35f479cbfe  475.175247      1.0      0.0   \n",
       "999997  a5613c0b-b872-4a81-b484-09340726ce2e  180.861620      1.0      0.0   \n",
       "999998  31039119-d8d7-4bc8-b250-f298bdfb46d9  154.280043      1.0      0.0   \n",
       "999999  79160b50-5ebd-430d-a665-0addaae4d5bb  733.511135      1.0      0.0   \n",
       "\n",
       "        src_0  src_1  src_2  src_3  src_4  dst_0  dst_1  dst_2  dst_3  dst_4  \n",
       "0         0.0    0.0    0.0    1.0    0.0    0.0    0.0    1.0    0.0    0.0  \n",
       "1         1.0    0.0    0.0    0.0    0.0    0.0    1.0    0.0    0.0    0.0  \n",
       "2         1.0    0.0    0.0    0.0    0.0    0.0    0.0    0.0    1.0    0.0  \n",
       "3         1.0    0.0    0.0    0.0    0.0    0.0    1.0    0.0    0.0    0.0  \n",
       "4         1.0    0.0    0.0    0.0    0.0    0.0    0.0    1.0    0.0    0.0  \n",
       "...       ...    ...    ...    ...    ...    ...    ...    ...    ...    ...  \n",
       "999995    0.0    0.0    0.0    1.0    0.0    1.0    0.0    0.0    0.0    0.0  \n",
       "999996    0.0    0.0    0.0    0.0    1.0    0.0    1.0    0.0    0.0    0.0  \n",
       "999997    0.0    0.0    1.0    0.0    0.0    0.0    1.0    0.0    0.0    0.0  \n",
       "999998    0.0    1.0    0.0    0.0    0.0    0.0    0.0    0.0    1.0    0.0  \n",
       "999999    0.0    0.0    1.0    0.0    0.0    0.0    0.0    0.0    1.0    0.0  \n",
       "\n",
       "[1000000 rows x 18 columns]"
      ]
     },
     "execution_count": 66,
     "metadata": {},
     "output_type": "execute_result"
    }
   ],
   "source": [
    "df_final"
   ]
  },
  {
   "cell_type": "code",
   "execution_count": 67,
   "metadata": {
    "collapsed": false
   },
   "outputs": [],
   "source": [
    "# Dropping the fields not needed further\n",
    "\n",
    "df_final = df_final.drop([\"dst_site\",\"event_type\",\"src_site\",\"uuid\"],axis=1)"
   ]
  },
  {
   "cell_type": "code",
   "execution_count": 68,
   "metadata": {
    "collapsed": false,
    "scrolled": true
   },
   "outputs": [
    {
     "data": {
      "text/html": [
       "<div>\n",
       "<table border=\"1\" class=\"dataframe\">\n",
       "  <thead>\n",
       "    <tr style=\"text-align: right;\">\n",
       "      <th></th>\n",
       "      <th>bytes</th>\n",
       "      <th>timestamp</th>\n",
       "      <th>event_0</th>\n",
       "      <th>event_1</th>\n",
       "      <th>src_0</th>\n",
       "      <th>src_1</th>\n",
       "      <th>src_2</th>\n",
       "      <th>src_3</th>\n",
       "      <th>src_4</th>\n",
       "      <th>dst_0</th>\n",
       "      <th>dst_1</th>\n",
       "      <th>dst_2</th>\n",
       "      <th>dst_3</th>\n",
       "      <th>dst_4</th>\n",
       "    </tr>\n",
       "  </thead>\n",
       "  <tbody>\n",
       "    <tr>\n",
       "      <th>0</th>\n",
       "      <td>2.113857e+09</td>\n",
       "      <td>201.593124</td>\n",
       "      <td>0.0</td>\n",
       "      <td>1.0</td>\n",
       "      <td>0.0</td>\n",
       "      <td>0.0</td>\n",
       "      <td>0.0</td>\n",
       "      <td>1.0</td>\n",
       "      <td>0.0</td>\n",
       "      <td>0.0</td>\n",
       "      <td>0.0</td>\n",
       "      <td>1.0</td>\n",
       "      <td>0.0</td>\n",
       "      <td>0.0</td>\n",
       "    </tr>\n",
       "    <tr>\n",
       "      <th>1</th>\n",
       "      <td>5.114972e+09</td>\n",
       "      <td>487.801724</td>\n",
       "      <td>0.0</td>\n",
       "      <td>1.0</td>\n",
       "      <td>1.0</td>\n",
       "      <td>0.0</td>\n",
       "      <td>0.0</td>\n",
       "      <td>0.0</td>\n",
       "      <td>0.0</td>\n",
       "      <td>0.0</td>\n",
       "      <td>1.0</td>\n",
       "      <td>0.0</td>\n",
       "      <td>0.0</td>\n",
       "      <td>0.0</td>\n",
       "    </tr>\n",
       "    <tr>\n",
       "      <th>2</th>\n",
       "      <td>8.065796e+09</td>\n",
       "      <td>769.214290</td>\n",
       "      <td>0.0</td>\n",
       "      <td>1.0</td>\n",
       "      <td>1.0</td>\n",
       "      <td>0.0</td>\n",
       "      <td>0.0</td>\n",
       "      <td>0.0</td>\n",
       "      <td>0.0</td>\n",
       "      <td>0.0</td>\n",
       "      <td>0.0</td>\n",
       "      <td>0.0</td>\n",
       "      <td>1.0</td>\n",
       "      <td>0.0</td>\n",
       "    </tr>\n",
       "    <tr>\n",
       "      <th>3</th>\n",
       "      <td>5.055894e+09</td>\n",
       "      <td>482.167663</td>\n",
       "      <td>0.0</td>\n",
       "      <td>1.0</td>\n",
       "      <td>1.0</td>\n",
       "      <td>0.0</td>\n",
       "      <td>0.0</td>\n",
       "      <td>0.0</td>\n",
       "      <td>0.0</td>\n",
       "      <td>0.0</td>\n",
       "      <td>1.0</td>\n",
       "      <td>0.0</td>\n",
       "      <td>0.0</td>\n",
       "      <td>0.0</td>\n",
       "    </tr>\n",
       "    <tr>\n",
       "      <th>4</th>\n",
       "      <td>4.990026e+09</td>\n",
       "      <td>475.885942</td>\n",
       "      <td>0.0</td>\n",
       "      <td>1.0</td>\n",
       "      <td>1.0</td>\n",
       "      <td>0.0</td>\n",
       "      <td>0.0</td>\n",
       "      <td>0.0</td>\n",
       "      <td>0.0</td>\n",
       "      <td>0.0</td>\n",
       "      <td>0.0</td>\n",
       "      <td>1.0</td>\n",
       "      <td>0.0</td>\n",
       "      <td>0.0</td>\n",
       "    </tr>\n",
       "    <tr>\n",
       "      <th>...</th>\n",
       "      <td>...</td>\n",
       "      <td>...</td>\n",
       "      <td>...</td>\n",
       "      <td>...</td>\n",
       "      <td>...</td>\n",
       "      <td>...</td>\n",
       "      <td>...</td>\n",
       "      <td>...</td>\n",
       "      <td>...</td>\n",
       "      <td>...</td>\n",
       "      <td>...</td>\n",
       "      <td>...</td>\n",
       "      <td>...</td>\n",
       "      <td>...</td>\n",
       "    </tr>\n",
       "    <tr>\n",
       "      <th>999995</th>\n",
       "      <td>1.791897e+09</td>\n",
       "      <td>170.888589</td>\n",
       "      <td>1.0</td>\n",
       "      <td>0.0</td>\n",
       "      <td>0.0</td>\n",
       "      <td>0.0</td>\n",
       "      <td>0.0</td>\n",
       "      <td>1.0</td>\n",
       "      <td>0.0</td>\n",
       "      <td>1.0</td>\n",
       "      <td>0.0</td>\n",
       "      <td>0.0</td>\n",
       "      <td>0.0</td>\n",
       "      <td>0.0</td>\n",
       "    </tr>\n",
       "    <tr>\n",
       "      <th>999996</th>\n",
       "      <td>4.982574e+09</td>\n",
       "      <td>475.175247</td>\n",
       "      <td>1.0</td>\n",
       "      <td>0.0</td>\n",
       "      <td>0.0</td>\n",
       "      <td>0.0</td>\n",
       "      <td>0.0</td>\n",
       "      <td>0.0</td>\n",
       "      <td>1.0</td>\n",
       "      <td>0.0</td>\n",
       "      <td>1.0</td>\n",
       "      <td>0.0</td>\n",
       "      <td>0.0</td>\n",
       "      <td>0.0</td>\n",
       "    </tr>\n",
       "    <tr>\n",
       "      <th>999997</th>\n",
       "      <td>1.896472e+09</td>\n",
       "      <td>180.861620</td>\n",
       "      <td>1.0</td>\n",
       "      <td>0.0</td>\n",
       "      <td>0.0</td>\n",
       "      <td>0.0</td>\n",
       "      <td>1.0</td>\n",
       "      <td>0.0</td>\n",
       "      <td>0.0</td>\n",
       "      <td>0.0</td>\n",
       "      <td>1.0</td>\n",
       "      <td>0.0</td>\n",
       "      <td>0.0</td>\n",
       "      <td>0.0</td>\n",
       "    </tr>\n",
       "    <tr>\n",
       "      <th>999998</th>\n",
       "      <td>1.617743e+09</td>\n",
       "      <td>154.280043</td>\n",
       "      <td>1.0</td>\n",
       "      <td>0.0</td>\n",
       "      <td>0.0</td>\n",
       "      <td>1.0</td>\n",
       "      <td>0.0</td>\n",
       "      <td>0.0</td>\n",
       "      <td>0.0</td>\n",
       "      <td>0.0</td>\n",
       "      <td>0.0</td>\n",
       "      <td>0.0</td>\n",
       "      <td>1.0</td>\n",
       "      <td>0.0</td>\n",
       "    </tr>\n",
       "    <tr>\n",
       "      <th>999999</th>\n",
       "      <td>7.691422e+09</td>\n",
       "      <td>733.511135</td>\n",
       "      <td>1.0</td>\n",
       "      <td>0.0</td>\n",
       "      <td>0.0</td>\n",
       "      <td>0.0</td>\n",
       "      <td>1.0</td>\n",
       "      <td>0.0</td>\n",
       "      <td>0.0</td>\n",
       "      <td>0.0</td>\n",
       "      <td>0.0</td>\n",
       "      <td>0.0</td>\n",
       "      <td>1.0</td>\n",
       "      <td>0.0</td>\n",
       "    </tr>\n",
       "  </tbody>\n",
       "</table>\n",
       "<p>1000000 rows × 14 columns</p>\n",
       "</div>"
      ],
      "text/plain": [
       "               bytes   timestamp  event_0  event_1  src_0  src_1  src_2  \\\n",
       "0       2.113857e+09  201.593124      0.0      1.0    0.0    0.0    0.0   \n",
       "1       5.114972e+09  487.801724      0.0      1.0    1.0    0.0    0.0   \n",
       "2       8.065796e+09  769.214290      0.0      1.0    1.0    0.0    0.0   \n",
       "3       5.055894e+09  482.167663      0.0      1.0    1.0    0.0    0.0   \n",
       "4       4.990026e+09  475.885942      0.0      1.0    1.0    0.0    0.0   \n",
       "...              ...         ...      ...      ...    ...    ...    ...   \n",
       "999995  1.791897e+09  170.888589      1.0      0.0    0.0    0.0    0.0   \n",
       "999996  4.982574e+09  475.175247      1.0      0.0    0.0    0.0    0.0   \n",
       "999997  1.896472e+09  180.861620      1.0      0.0    0.0    0.0    1.0   \n",
       "999998  1.617743e+09  154.280043      1.0      0.0    0.0    1.0    0.0   \n",
       "999999  7.691422e+09  733.511135      1.0      0.0    0.0    0.0    1.0   \n",
       "\n",
       "        src_3  src_4  dst_0  dst_1  dst_2  dst_3  dst_4  \n",
       "0         1.0    0.0    0.0    0.0    1.0    0.0    0.0  \n",
       "1         0.0    0.0    0.0    1.0    0.0    0.0    0.0  \n",
       "2         0.0    0.0    0.0    0.0    0.0    1.0    0.0  \n",
       "3         0.0    0.0    0.0    1.0    0.0    0.0    0.0  \n",
       "4         0.0    0.0    0.0    0.0    1.0    0.0    0.0  \n",
       "...       ...    ...    ...    ...    ...    ...    ...  \n",
       "999995    1.0    0.0    1.0    0.0    0.0    0.0    0.0  \n",
       "999996    0.0    1.0    0.0    1.0    0.0    0.0    0.0  \n",
       "999997    0.0    0.0    0.0    1.0    0.0    0.0    0.0  \n",
       "999998    0.0    0.0    0.0    0.0    0.0    1.0    0.0  \n",
       "999999    0.0    0.0    0.0    0.0    0.0    1.0    0.0  \n",
       "\n",
       "[1000000 rows x 14 columns]"
      ]
     },
     "execution_count": 68,
     "metadata": {},
     "output_type": "execute_result"
    }
   ],
   "source": [
    "df_final"
   ]
  },
  {
   "cell_type": "code",
   "execution_count": null,
   "metadata": {
    "collapsed": true
   },
   "outputs": [],
   "source": []
  },
  {
   "cell_type": "markdown",
   "metadata": {},
   "source": [
    "## Training Neural Network Model on the Data\n",
    "\n",
    "**Training a simple 1 hidden layered(with 10 neurons) Neural Network with RELU activation function and ADAM optimizer for this regression task.**"
   ]
  },
  {
   "cell_type": "code",
   "execution_count": 69,
   "metadata": {
    "collapsed": false,
    "scrolled": true
   },
   "outputs": [],
   "source": [
    "# Making Training and Testing Data\n",
    "\n",
    "X_train = df_final.drop([\"timestamp\"],axis=1)[\"bytes\"]\n",
    "Y_train = df_final[\"timestamp\"]"
   ]
  },
  {
   "cell_type": "code",
   "execution_count": 70,
   "metadata": {
    "collapsed": false
   },
   "outputs": [
    {
     "name": "stderr",
     "output_type": "stream",
     "text": [
      "/home/ayush/.local/lib/python2.7/site-packages/sklearn/preprocessing/data.py:586: DeprecationWarning: Passing 1d arrays as data is deprecated in 0.17 and will raise ValueError in 0.19. Reshape your data either using X.reshape(-1, 1) if your data has a single feature or X.reshape(1, -1) if it contains a single sample.\n",
      "  warnings.warn(DEPRECATION_MSG_1D, DeprecationWarning)\n",
      "/home/ayush/.local/lib/python2.7/site-packages/sklearn/preprocessing/data.py:649: DeprecationWarning: Passing 1d arrays as data is deprecated in 0.17 and will raise ValueError in 0.19. Reshape your data either using X.reshape(-1, 1) if your data has a single feature or X.reshape(1, -1) if it contains a single sample.\n",
      "  warnings.warn(DEPRECATION_MSG_1D, DeprecationWarning)\n",
      "/home/ayush/.local/lib/python2.7/site-packages/sklearn/preprocessing/data.py:586: DeprecationWarning: Passing 1d arrays as data is deprecated in 0.17 and will raise ValueError in 0.19. Reshape your data either using X.reshape(-1, 1) if your data has a single feature or X.reshape(1, -1) if it contains a single sample.\n",
      "  warnings.warn(DEPRECATION_MSG_1D, DeprecationWarning)\n",
      "/home/ayush/.local/lib/python2.7/site-packages/sklearn/preprocessing/data.py:649: DeprecationWarning: Passing 1d arrays as data is deprecated in 0.17 and will raise ValueError in 0.19. Reshape your data either using X.reshape(-1, 1) if your data has a single feature or X.reshape(1, -1) if it contains a single sample.\n",
      "  warnings.warn(DEPRECATION_MSG_1D, DeprecationWarning)\n"
     ]
    }
   ],
   "source": [
    "# Scaling the training and testing dataset.\n",
    "\n",
    "scaler1 = StandardScaler()\n",
    "X_train = scaler1.fit_transform(X_train)\n",
    "\n",
    "scaler2 = StandardScaler()\n",
    "Y_train = scaler2.fit_transform(Y_train)"
   ]
  },
  {
   "cell_type": "code",
   "execution_count": 71,
   "metadata": {
    "collapsed": false
   },
   "outputs": [],
   "source": [
    "df_scaled = pd.DataFrame(X_train)\n",
    "df_scaled.columns = [\"bytes\"]"
   ]
  },
  {
   "cell_type": "code",
   "execution_count": 72,
   "metadata": {
    "collapsed": false
   },
   "outputs": [
    {
     "name": "stderr",
     "output_type": "stream",
     "text": [
      "Using TensorFlow backend.\n"
     ]
    }
   ],
   "source": [
    "from keras.models import Sequential\n",
    "from keras.layers import Dense, Activation\n"
   ]
  },
  {
   "cell_type": "code",
   "execution_count": 73,
   "metadata": {
    "collapsed": false,
    "scrolled": true
   },
   "outputs": [
    {
     "name": "stdout",
     "output_type": "stream",
     "text": [
      "Train on 800000 samples, validate on 200000 samples\n",
      "Epoch 1/10\n",
      "800000/800000 [==============================] - 20s - loss: 0.2261 - val_loss: 0.0025\n",
      "Epoch 2/10\n",
      "800000/800000 [==============================] - 7s - loss: 0.0024 - val_loss: 0.0020\n",
      "Epoch 3/10\n",
      "800000/800000 [==============================] - 7s - loss: 0.0015 - val_loss: 0.0011\n",
      "Epoch 4/10\n",
      "800000/800000 [==============================] - 7s - loss: 7.5135e-04 - val_loss: 4.1879e-04\n",
      "Epoch 5/10\n",
      "800000/800000 [==============================] - 8s - loss: 3.7930e-04 - val_loss: 3.4840e-04\n",
      "Epoch 6/10\n",
      "800000/800000 [==============================] - 7s - loss: 3.1795e-04 - val_loss: 2.8819e-04\n",
      "Epoch 7/10\n",
      "800000/800000 [==============================] - 6s - loss: 2.5705e-04 - val_loss: 2.2731e-04\n",
      "Epoch 8/10\n",
      "800000/800000 [==============================] - 8s - loss: 1.9679e-04 - val_loss: 1.6760e-04\n",
      "Epoch 9/10\n",
      "800000/800000 [==============================] - 8s - loss: 1.4030e-04 - val_loss: 1.1451e-04\n",
      "Epoch 10/10\n",
      "800000/800000 [==============================] - 8s - loss: 9.1662e-05 - val_loss: 7.0838e-05\n",
      "\n",
      "time taken 134.626118183 seconds\n"
     ]
    }
   ],
   "source": [
    "# The trainig takes around 25-26Mins for 10 epochs (will vary on different machines.)\n",
    "\n",
    "start = time()\n",
    "\n",
    "model = Sequential()\n",
    "model.add(Dense(10, input_dim=1, init='normal', activation='relu'))\n",
    "model.add(Dense(1, init='normal'))\n",
    "\n",
    "# \"mean_squared_error\" was taken as the loss function with \"mean_absolute_percentage_error\" as the evaluation metrics.\n",
    "\n",
    "model.compile(loss='mean_squared_error', optimizer='adam')\n",
    "\n",
    "# The Dataset was divided into 2 sets one for Trainig and other for Testing with 80:20 ratio.The 20% is testing data which is unseen and not used in traing\n",
    "\n",
    "hist = model.fit(np.array(df_scaled[\"bytes\"][:800000]), Y_train[:800000],validation_data=(np.array(df_scaled[\"bytes\"][800000:]),Y_train[800000:]),batch_size=1000)\n",
    "\n",
    "print '\\ntime taken %s seconds' % str(time() - start)"
   ]
  },
  {
   "cell_type": "code",
   "execution_count": 74,
   "metadata": {
    "collapsed": false
   },
   "outputs": [
    {
     "data": {
      "image/png": "[encoded data removed]",
      "text/plain": [
       "<matplotlib.figure.Figure at 0x7f04e45b1b10>"
      ]
     },
     "metadata": {},
     "output_type": "display_data"
    }
   ],
   "source": [
    "# summarize history for loss\n",
    "# To displat the graph in scale the first reading is excluded\n",
    "plt.plot(hist.history['loss'][1:])\n",
    "plt.plot(hist.history['val_loss'][1:])\n",
    "plt.title('model loss')\n",
    "plt.ylabel('loss')\n",
    "plt.xlabel('epoch')\n",
    "plt.legend(['training loss', 'testing loss'], loc='upper right')\n",
    "plt.show()"
   ]
  },
  {
   "cell_type": "markdown",
   "metadata": {},
   "source": [
    "### Describe in words why and how this approximates the original random generator "
   ]
  },
  {
   "cell_type": "markdown",
   "metadata": {},
   "source": [
    "Neural network is a machine learning approach which are know for their low level feature abstraction.They comprise of layers which contain neurons in them which are inteconnected and have a weight associated with each connection.Activation layers like softmax,RELU etc help in bringing the non-linearilty and gives it the ability to fit non linear data.Through backpropagation it is able to propagate back through every neuron and optimize the weights associated with it.  \n",
    "\n",
    "When dealing with a regression problem our aim is to find the best fit line through a n-dimentional space(n features).It greaty depends on the shape on the data distribution(linear or non linear) between all features and target variable.\n",
    "\n",
    "In our case the feature(#Bytes) is highy correlated with the target variable which can be seen through the value of Pearson correlation(i.e 1).Moreover it was only 1 dimentional so the neural network didnt have much problem to learn the linear pattern and give very high accuracy/low error."
   ]
  },
  {
   "cell_type": "code",
   "execution_count": null,
   "metadata": {
    "collapsed": true
   },
   "outputs": [],
   "source": []
  }
 ],
 "metadata": {
  "kernelspec": {
   "display_name": "Python 2",
   "language": "python",
   "name": "python2"
  },
  "language_info": {
   "codemirror_mode": {
    "name": "ipython",
    "version": 2
   },
   "file_extension": ".py",
   "mimetype": "text/x-python",
   "name": "python",
   "nbconvert_exporter": "python",
   "pygments_lexer": "ipython2",
   "version": "2.7.10"
  }
 },
 "nbformat": 4,
 "nbformat_minor": 1
}
